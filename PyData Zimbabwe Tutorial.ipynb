{
 "cells": [
  {
   "cell_type": "markdown",
   "metadata": {},
   "source": [
    "# Sentiment Analysis"
   ]
  },
  {
   "cell_type": "markdown",
   "metadata": {},
   "source": [
    "## What is Sentiment Analysis\n",
    "- This is the process of examining a piece of text to determine the opinion/view of the author using algorithms sometimes called opinion mining\n",
    "- Sentiment analysis can classify text into negative, positive or neutral classes depending on sentiment/opinion of the author\n",
    "- Sentiment analysis is a subset of natural language processing (NLP) and NLP is a field of computer science concerned with computers being able to understand human language(natural language) with the means of artificial intelligence and machine leaning.\n",
    "- Sentiment analysis can be performed using three main methods\n",
    "    - **rules based approach** this method works by looking at the number of negative and positive words weighing the words if the number of positive words out weigh the negative the text is classified as positive and the inverse is true. This method is valnurable to negation though. \n",
    "    - **lexicon based** an unsupervised method which involves calculating the sentiment from the semantic orientation of word or phrases that occur in a text\n",
    "    - **machine learning** method which involves training a model using a dataset with labels"
   ]
  },
  {
   "cell_type": "markdown",
   "metadata": {},
   "source": [
    "### Applications of sentiment analysis\n",
    "- Reputation management reputaion of your brand or company\n",
    "- "
   ]
  },
  {
   "cell_type": "markdown",
   "metadata": {},
   "source": [
    "#### Today we are going to focus on implementing sentiment analysis but dont worry we are not going to build a model or anything we are just going to use a module called `textblob` its a module used for prototyping nlp solutions and it is even used in production\n",
    "\n",
    "----\n",
    "\n",
    "- To get started fireup these commands in terminal in your virtual enviroment \n",
    "    ````\n",
    "    pip install textblob\n",
    "    python -m textblob.download_corpora\n",
    "    ````\n",
    "- when done do the following to perform your first sentiment anaylsis task"
   ]
  },
  {
   "cell_type": "code",
   "execution_count": 10,
   "metadata": {},
   "outputs": [
    {
     "name": "stdout",
     "output_type": "stream",
     "text": [
      "Positive\n"
     ]
    }
   ],
   "source": [
    "from textblob import TextBlob\n",
    "\n",
    "classifer = TextBlob('I love python its a good tool')\n",
    "\n",
    "if classifer.sentiment.polarity > 0:\n",
    "    print('Positive')\n",
    "elif classifer.sentiment.polarity < 0:\n",
    "    print('Negative')\n",
    "else:\n",
    "    print('Neutral')"
   ]
  },
  {
   "cell_type": "markdown",
   "metadata": {},
   "source": [
    "#### Textblob can do much more  than just sentiment analysis that since its a library for processing text data.\n",
    "##### Find More Here 👉  [TextBlob Documentation](https://textblob.readthedocs.io/en/dev/)"
   ]
  },
  {
   "cell_type": "markdown",
   "metadata": {},
   "source": [
    "# Implementing Sentiment Analysis In Real World 'Twitter Data Sentiment Analysis'\n",
    "\n",
    "- Install tweepy a python module for accessing Twitter API using\n",
    "    - ` pip install tweepy `\n",
    "- Apply for a twitter development account at [Twitter Developers](https:://developers.twitter.com)\n",
    "- follow through this\n"
   ]
  },
  {
   "cell_type": "code",
   "execution_count": 11,
   "metadata": {},
   "outputs": [],
   "source": [
    "import tweepy\n",
    "import re\n",
    "from tweepy import OAuthHandler\n",
    "\n"
   ]
  },
  {
   "cell_type": "code",
   "execution_count": 37,
   "metadata": {},
   "outputs": [],
   "source": [
    "# @hidden_cell\n",
    "\n",
    "# keys and tokens from the Twitter Dev Console \n",
    "consumer_key = 'BoDKWzyGkxBHHWVDkZQNt8l3C'\n",
    "consumer_secret = 'GwNXciayGWRc2paA5IkwMJyMoXPgioW7WUss8svJRjGvNMQVIP'\n",
    "access_token = '2334151503-pt38pMqJlEUWsAq73lJtn5XNMrUEg6QKTNQnjEv'\n",
    "access_token_secret = 'GOeB9qPnugYombcgulxgJw2yrbsyUeH071LtD9mARykrZ'"
   ]
  },
  {
   "cell_type": "code",
   "execution_count": 12,
   "metadata": {},
   "outputs": [],
   "source": [
    "# attempt authentication \n",
    "try: \n",
    "    # create OAuthHandler object \n",
    "    auth = OAuthHandler(consumer_key, consumer_secret) \n",
    "    # set access token and secret \n",
    "    auth.set_access_token(access_token, access_token_secret) \n",
    "    # create tweepy API object to fetch tweets \n",
    "    api = tweepy.API(auth) \n",
    "except: \n",
    "    print(\"Error: Authentication Failed\")"
   ]
  },
  {
   "cell_type": "code",
   "execution_count": 13,
   "metadata": {},
   "outputs": [],
   "source": [
    "## Helper Functions\n",
    "\n",
    "def clean_tweet(tweet): \n",
    "        ''' \n",
    "        Utility function to clean tweet text by removing links, special characters \n",
    "        using simple regex statements. \n",
    "        '''\n",
    "        return ' '.join(re.sub(\"(@[A-Za-z0-9]+)|([^0-9A-Za-z \\t])(\\w+:\\/\\/\\S+)\", \" \", tweet).split()) \n",
    "    \n",
    "def get_tweet_sentiment(tweet): \n",
    "    ''' \n",
    "    Utility function to classify sentiment of passed tweet \n",
    "    using textblob's sentiment method \n",
    "    '''\n",
    "    # create TextBlob object of passed tweet text \n",
    "    analysis = TextBlob(clean_tweet(tweet)) \n",
    "    # set sentiment \n",
    "    if analysis.sentiment.polarity > 0: \n",
    "        return 'positive'\n",
    "    elif analysis.sentiment.polarity == 0: \n",
    "        return 'neutral'\n",
    "    else: \n",
    "        return 'negative'\n",
    "\n",
    "def get_tweets(query, count = 10): \n",
    "    ''' \n",
    "    Main function to fetch tweets and parse them. \n",
    "    '''\n",
    "    # empty list to store parsed tweets \n",
    "    tweets = [] \n",
    "\n",
    "    try: \n",
    "        # call twitter api to fetch tweets \n",
    "        fetched_tweets = api.search(q = query, count = count) \n",
    "\n",
    "        # parsing tweets one by one \n",
    "        for tweet in fetched_tweets: \n",
    "            # empty dictionary to store required params of a tweet \n",
    "            parsed_tweet = {} \n",
    "\n",
    "            # saving text of tweet \n",
    "            parsed_tweet['text'] = tweet.text \n",
    "            # saving sentiment of tweet \n",
    "            parsed_tweet['sentiment'] = get_tweet_sentiment(tweet.text) \n",
    "\n",
    "            # appending parsed tweet to tweets list \n",
    "            if tweet.retweet_count > 0: \n",
    "                # if tweet has retweets, ensure that it is appended only once \n",
    "                if parsed_tweet not in tweets: \n",
    "                    tweets.append(parsed_tweet) \n",
    "            else: \n",
    "                tweets.append(parsed_tweet) \n",
    "\n",
    "        # return parsed tweets \n",
    "        return tweets \n",
    "\n",
    "    except tweepy.TweepError as e: \n",
    "        # print error (if any) \n",
    "        print(\"Error : \" + str(e)) "
   ]
  },
  {
   "cell_type": "code",
   "execution_count": 32,
   "metadata": {},
   "outputs": [],
   "source": [
    "tweets = get_tweets('Samsung S10 flod', 100)\n",
    "\n",
    "positiveTweets = [tweet for tweet in tweets if tweet['sentiment'] == 'positive']\n",
    "negativeTweets = [tweet for tweet in tweets if tweet['sentiment'] == 'negative']\n",
    "\n",
    "statistics = {\n",
    "      'positiveTweets': {\n",
    "        'tweets': positiveTweets,\n",
    "        'percentage': len(positiveTweets)/len(tweets) * 100\n",
    "      },\n",
    "      'negativeTweets': {\n",
    "        'tweets': negativeTweets,\n",
    "        'percentage': len(negativeTweets)/len(tweets) * 100\n",
    "      },\n",
    "      'neutralTweets' : {\n",
    "        'percentage': ((len(tweets) - len(negativeTweets) - len(negativeTweets))/len(tweets)) * 100\n",
    "      }\n",
    "}"
   ]
  },
  {
   "cell_type": "code",
   "execution_count": 33,
   "metadata": {},
   "outputs": [],
   "source": [
    "import matplotlib.pyplot as plt\n",
    "% matplotlib inline"
   ]
  },
  {
   "cell_type": "code",
   "execution_count": 34,
   "metadata": {},
   "outputs": [
    {
     "data": {
      "image/png": "[encoded data removed]",
      "text/plain": [
       "<Figure size 432x288 with 1 Axes>"
      ]
     },
     "metadata": {},
     "output_type": "display_data"
    }
   ],
   "source": [
    "labels = 'Positive', 'Negative', 'Neutral'\n",
    "sizes = [statistics['positiveTweets']['percentage'], statistics['negativeTweets']['percentage'], statistics['neutralTweets']['percentage']]\n",
    "explode = (0.1, 0.1, 0.1)  \n",
    "\n",
    "fig1, ax1 = plt.subplots()\n",
    "ax1.pie(sizes, explode=explode, labels=labels, autopct='%1.1f%%',shadow=True, startangle=90)\n",
    "ax1.axis('equal') \n",
    "\n",
    "plt.show()"
   ]
  },
  {
   "cell_type": "code",
   "execution_count": null,
   "metadata": {},
   "outputs": [],
   "source": []
  }
 ],
 "metadata": {
  "kernelspec": {
   "display_name": "Python 3",
   "language": "python",
   "name": "python3"
  },
  "language_info": {
   "codemirror_mode": {
    "name": "ipython",
    "version": 3
   },
   "file_extension": ".py",
   "mimetype": "text/x-python",
   "name": "python",
   "nbconvert_exporter": "python",
   "pygments_lexer": "ipython3",
   "version": "3.6.5"
  }
 },
 "nbformat": 4,
 "nbformat_minor": 2
}
